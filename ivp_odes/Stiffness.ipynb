{
  "cells": [
    {
      "cell_type": "markdown",
      "metadata": {},
      "source": [
        "# Stiffness in Initial Value Problems"
      ]
    },
    {
      "cell_type": "code",
      "execution_count": 1,
      "metadata": {
        "collapsed": false
      },
      "outputs": [],
      "source": [
        "import numpy as np\n",
        "import matplotlib.pyplot as pt"
      ]
    },
    {
      "cell_type": "markdown",
      "metadata": {},
      "source": [
        "Consider $y'=-100y+100t + 101$.\n",
        "\n",
        "Exact solution: $y(t)=1+t+ce^{-100t}$.\n",
        "\n",
        "Exact solution derivative: $y'(t)=1-100ce^{-100t}$."
      ]
    },
    {
      "cell_type": "code",
      "execution_count": 2,
      "metadata": {
        "collapsed": false
      },
      "outputs": [],
      "source": [
        "def f(t, y):\n",
        "    return -100*y+100*t + 101"
      ]
    },
    {
      "cell_type": "code",
      "execution_count": 3,
      "metadata": {
        "collapsed": false
      },
      "outputs": [],
      "source": [
        "t_end = 0.2\n",
        "\n",
        "def plot_solution(t0, y0):\n",
        "    c = (y0-1-t0)/np.exp(-100*t0)\n",
        "    t_mesh = np.linspace(t0, t_end, 1000)\n",
        "    solution = 1+t_mesh+c*np.exp(-100*t_mesh)\n",
        "    \n",
        "    pt.plot(t_mesh, solution, label=\"exact\")\n",
        "    pt.plot(t0, y0, \"ko\")"
      ]
    },
    {
      "cell_type": "code",
      "execution_count": 4,
      "metadata": {
        "collapsed": false
      },
      "outputs": [
        {
          "name": "stderr",
          "output_type": "stream",
          "text": [
            "/usr/local/lib/python3.5/dist-packages/IPython/core/formatters.py:92: DeprecationWarning: DisplayFormatter._ipython_display_formatter_default is deprecated: use @default decorator instead.\n",
            "  def _ipython_display_formatter_default(self):\n",
            "/usr/local/lib/python3.5/dist-packages/IPython/core/formatters.py:669: DeprecationWarning: PlainTextFormatter._singleton_printers_default is deprecated: use @default decorator instead.\n",
            "  def _singleton_printers_default(self):\n"
          ]
        },
        {
          "data": {
            "image/png": "[encoded data removed]",
            "text/plain": [
              "<matplotlib.figure.Figure at 0x7f3551e468d0>"
            ]
          },
          "metadata": {},
          "output_type": "display_data"
        }
      ],
      "source": [
        "plot_solution(t0=0, y0=1)\n",
        "plot_solution(t0=0, y0=1.2)\n",
        "plot_solution(t0=0, y0=-0.5)\n",
        "plot_solution(t0=0.05, y0=-0.5)"
      ]
    },
    {
      "cell_type": "markdown",
      "metadata": {},
      "source": [
        "Here's a helper function that uses a time stepper in the form of a `step_function` to numerically solve an ODE and plot the numerical solution:"
      ]
    },
    {
      "cell_type": "code",
      "execution_count": 38,
      "metadata": {
        "collapsed": false
      },
      "outputs": [],
      "source": [
        "def integrate_ode(step_function, t0, y0, h):\n",
        "    times = [t0]\n",
        "    ys = [y0]\n",
        "\n",
        "    while times[-1] <= t_end + 1e-14:\n",
        "        t = times[-1]\n",
        "        ys.append(step_function(t, ys[-1], h))\n",
        "        times.append(t + h)\n",
        "\n",
        "    pt.plot(times, ys, label=step_function.__name__)\n",
        "    pt.xlim([t0, t_end])\n",
        "    pt.ylim([-1, 2])\n",
        "    pt.legend(loc=\"best\")"
      ]
    },
    {
      "cell_type": "markdown",
      "metadata": {},
      "source": [
        "## Using an Explicit Method"
      ]
    },
    {
      "cell_type": "markdown",
      "metadata": {},
      "source": [
        "First, implement `forward_euler_step(tk, yk, h)`:"
      ]
    },
    {
      "cell_type": "code",
      "execution_count": 44,
      "metadata": {
        "collapsed": false
      },
      "outputs": [],
      "source": [
        "def forward_euler_step(tk, yk, h):\n",
        "    return yk + h*f(tk, yk)"
      ]
    },
    {
      "cell_type": "code",
      "execution_count": 45,
      "metadata": {
        "collapsed": false
      },
      "outputs": [
        {
          "data": {
            "image/png": "[encoded data removed]",
            "text/plain": [
              "<matplotlib.figure.Figure at 0x7f35508f54a8>"
            ]
          },
          "metadata": {},
          "output_type": "display_data"
        }
      ],
      "source": [
        "t0 = 0.05\n",
        "y0 = -0.5\n",
        "h = 0.008  # start this at 0.001, then grow\n",
        "\n",
        "plot_solution(t0=t0, y0=y0)\n",
        "integrate_ode(forward_euler_step, t0=t0, y0=y0, h=h)"
      ]
    },
    {
      "cell_type": "markdown",
      "metadata": {},
      "source": [
        "* What's the main challenge here?"
      ]
    },
    {
      "cell_type": "markdown",
      "metadata": {},
      "source": [
        "## Using an Implicit Method"
      ]
    },
    {
      "cell_type": "markdown",
      "metadata": {},
      "source": [
        "Next, implement `backward_euler_step(tk, yk, h)`:"
      ]
    },
    {
      "cell_type": "code",
      "execution_count": 46,
      "metadata": {
        "collapsed": true
      },
      "outputs": [],
      "source": [
        "def backward_euler_step(tk, yk, h):\n",
        "    tkp1 = tk+h\n",
        "    return (yk + h*(100*tkp1 + 101))/(1+100*h)"
      ]
    },
    {
      "cell_type": "code",
      "execution_count": 48,
      "metadata": {
        "collapsed": false
      },
      "outputs": [
        {
          "data": {
            "text/plain": [
              "<matplotlib.legend.Legend at 0x7f35508265c0>"
            ]
          },
          "execution_count": 48,
          "metadata": {},
          "output_type": "execute_result"
        },
        {
          "data": {
            "image/png": "[encoded data removed]",
            "text/plain": [
              "<matplotlib.figure.Figure at 0x7f3550a99080>"
            ]
          },
          "metadata": {},
          "output_type": "display_data"
        }
      ],
      "source": [
        "t0 = 0.05\n",
        "y0 = -0.5\n",
        "h = 0.05  # start this at 0.001, then grow\n",
        "\n",
        "plot_solution(t0=t0, y0=y0)\n",
        "integrate_ode(backward_euler_step, t0=t0, y0=y0, h=h)\n",
        "pt.xlim([t0, t_end])\n",
        "pt.ylim([-1, 2])\n",
        "pt.legend()"
      ]
    },
    {
      "cell_type": "code",
      "execution_count": null,
      "metadata": {
        "collapsed": true
      },
      "outputs": [],
      "source": []
    }
  ],
  "metadata": {
    "kernelspec": {
      "display_name": "Python 3",
      "language": "python",
      "name": "python3"
    },
    "language_info": {
      "codemirror_mode": {
        "name": "ipython",
        "version": 3
      },
      "file_extension": ".py",
      "mimetype": "text/x-python",
      "name": "python",
      "nbconvert_exporter": "python",
      "pygments_lexer": "ipython3",
      "version": "3.5.1+"
    }
  },
  "nbformat": 4,
  "nbformat_minor": 0
}