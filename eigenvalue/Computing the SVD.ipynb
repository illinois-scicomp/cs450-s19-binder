{
  "cells": [
    {
      "cell_type": "markdown",
      "metadata": {},
      "source": [
        "# Computing the SVD"
      ]
    },
    {
      "cell_type": "code",
      "execution_count": 1,
      "metadata": {
        "collapsed": false
      },
      "outputs": [],
      "source": [
        "import numpy as np\n",
        "import numpy.linalg as la"
      ]
    },
    {
      "cell_type": "code",
      "execution_count": 2,
      "metadata": {
        "collapsed": false
      },
      "outputs": [],
      "source": [
        "np.random.seed(15)\n",
        "n = 5\n",
        "A = np.random.randn(n, n)"
      ]
    },
    {
      "cell_type": "markdown",
      "metadata": {},
      "source": [
        "Now compute the eigenvalues and eigenvectors of $A^TA$ as `eigvals` and `eigvecs` using `la.eig` or `la.eigh` (symmetric):"
      ]
    },
    {
      "cell_type": "code",
      "execution_count": 3,
      "metadata": {
        "collapsed": false
      },
      "outputs": [],
      "source": [
        "eigvals, eigvecs = la.eigh(A.T.dot(A))"
      ]
    },
    {
      "cell_type": "code",
      "execution_count": 4,
      "metadata": {
        "collapsed": false
      },
      "outputs": [
        {
          "data": {
            "text/plain": [
              "array([ 0.08637178,  0.457892  ,  2.04177547,  2.34383161,  8.37000184])"
            ]
          },
          "execution_count": 4,
          "metadata": {},
          "output_type": "execute_result"
        }
      ],
      "source": [
        "eigvals"
      ]
    },
    {
      "cell_type": "markdown",
      "metadata": {},
      "source": [
        "Eigenvalues are real and positive. Coincidence?"
      ]
    },
    {
      "cell_type": "code",
      "execution_count": 5,
      "metadata": {
        "collapsed": false
      },
      "outputs": [
        {
          "data": {
            "text/plain": [
              "(5, 5)"
            ]
          },
          "execution_count": 5,
          "metadata": {},
          "output_type": "execute_result"
        }
      ],
      "source": [
        "eigvecs.shape"
      ]
    },
    {
      "cell_type": "markdown",
      "metadata": {},
      "source": [
        "Check that those are in fact eigenvectors and eigenvalues:"
      ]
    },
    {
      "cell_type": "code",
      "execution_count": 6,
      "metadata": {
        "collapsed": false
      },
      "outputs": [
        {
          "data": {
            "text/plain": [
              "array([[  4.44089210e-16,   1.77635684e-15,   2.22044605e-15,\n",
              "         -4.44089210e-16,   2.22044605e-16],\n",
              "       [  2.22044605e-16,  -1.77635684e-15,  -4.44089210e-16,\n",
              "         -1.11022302e-15,   1.66533454e-16],\n",
              "       [ -4.44089210e-16,  -6.66133815e-16,   1.77635684e-15,\n",
              "         -4.44089210e-16,  -1.66533454e-16],\n",
              "       [ -4.44089210e-16,   0.00000000e+00,   1.33226763e-15,\n",
              "          0.00000000e+00,  -7.77156117e-16],\n",
              "       [  2.22044605e-16,   5.55111512e-17,  -5.55111512e-16,\n",
              "         -8.88178420e-16,   6.66133815e-16]])"
            ]
          },
          "execution_count": 6,
          "metadata": {},
          "output_type": "execute_result"
        }
      ],
      "source": [
        "B = A.T @ A\n",
        "B - eigvecs.dot(np.diag(eigvals)).dot(la.inv(eigvecs))"
      ]
    },
    {
      "cell_type": "markdown",
      "metadata": {},
      "source": [
        "`eigvecs` are orthonormal! (Why?)\n",
        "\n",
        "Check:"
      ]
    },
    {
      "cell_type": "code",
      "execution_count": 8,
      "metadata": {
        "collapsed": false
      },
      "outputs": [
        {
          "data": {
            "text/plain": [
              "array([[  8.88178420e-16,  -3.19189120e-16,  -1.66533454e-16,\n",
              "         -5.55111512e-17,  -1.31838984e-16],\n",
              "       [ -3.19189120e-16,   1.33226763e-15,  -6.93889390e-17,\n",
              "          1.66533454e-16,   4.29344060e-16],\n",
              "       [ -1.66533454e-16,  -6.93889390e-17,   4.44089210e-16,\n",
              "          1.11022302e-16,   1.04083409e-17],\n",
              "       [ -5.55111512e-17,   1.66533454e-16,   1.11022302e-16,\n",
              "          4.44089210e-16,   8.32667268e-17],\n",
              "       [ -1.31838984e-16,   4.29344060e-16,   1.04083409e-17,\n",
              "          8.32667268e-17,   4.44089210e-16]])"
            ]
          },
          "execution_count": 8,
          "metadata": {},
          "output_type": "execute_result"
        }
      ],
      "source": [
        "eigvecs.T @ eigvecs  - np.eye(n)"
      ]
    },
    {
      "cell_type": "markdown",
      "metadata": {},
      "source": [
        "------\n",
        "Now piece together the SVD:"
      ]
    },
    {
      "cell_type": "code",
      "execution_count": 9,
      "metadata": {
        "collapsed": false
      },
      "outputs": [],
      "source": [
        "Sigma = np.diag(np.sqrt(eigvals))"
      ]
    },
    {
      "cell_type": "code",
      "execution_count": 10,
      "metadata": {
        "collapsed": false
      },
      "outputs": [],
      "source": [
        "V = eigvecs"
      ]
    },
    {
      "cell_type": "code",
      "execution_count": 11,
      "metadata": {
        "collapsed": false
      },
      "outputs": [],
      "source": [
        "U = A @ V @ la.inv(Sigma)"
      ]
    },
    {
      "cell_type": "markdown",
      "metadata": {},
      "source": [
        "Check orthogonality of `U`:"
      ]
    },
    {
      "cell_type": "code",
      "execution_count": 12,
      "metadata": {
        "collapsed": false
      },
      "outputs": [
        {
          "data": {
            "text/plain": [
              "array([[ -2.10942375e-15,  -1.08246745e-15,  -8.46545056e-16,\n",
              "          8.32667268e-17,   8.25728375e-16],\n",
              "       [ -1.08246745e-15,   4.44089210e-16,  -1.38777878e-16,\n",
              "         -5.55111512e-17,  -1.38777878e-16],\n",
              "       [ -8.46545056e-16,  -1.38777878e-16,   2.22044605e-16,\n",
              "          9.85322934e-16,  -3.95516953e-16],\n",
              "       [  8.32667268e-17,  -5.55111512e-17,   9.85322934e-16,\n",
              "          2.22044605e-16,   4.99600361e-16],\n",
              "       [  8.25728375e-16,  -1.38777878e-16,  -3.95516953e-16,\n",
              "          4.99600361e-16,  -2.22044605e-16]])"
            ]
          },
          "execution_count": 12,
          "metadata": {},
          "output_type": "execute_result"
        }
      ],
      "source": [
        "U @ U.T - np.eye(n)"
      ]
    },
    {
      "cell_type": "code",
      "execution_count": null,
      "metadata": {
        "collapsed": true
      },
      "outputs": [],
      "source": []
    }
  ],
  "metadata": {
    "kernelspec": {
      "display_name": "Python 3",
      "language": "python",
      "name": "python3"
    },
    "language_info": {
      "codemirror_mode": {
        "name": "ipython",
        "version": 3
      },
      "file_extension": ".py",
      "mimetype": "text/x-python",
      "name": "python",
      "nbconvert_exporter": "python",
      "pygments_lexer": "ipython3",
      "version": "3.5.2+"
    },
    "widgets": {
      "state": {},
      "version": "1.1.2"
    }
  },
  "nbformat": 4,
  "nbformat_minor": 0
}